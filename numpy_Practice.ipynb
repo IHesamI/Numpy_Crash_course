{
 "cells": [
  {
   "cell_type": "code",
   "execution_count": 1,
   "metadata": {},
   "outputs": [],
   "source": [
    "import numpy as np"
   ]
  },
  {
   "cell_type": "code",
   "execution_count": 2,
   "metadata": {},
   "outputs": [
    {
     "name": "stdout",
     "output_type": "stream",
     "text": [
      "[10 12 14 16 20 25]\n",
      "int32\n",
      "4\n"
     ]
    }
   ],
   "source": [
    "my_array = np.array([ 10 , 12 , 14 , 16 , 20 , 25 ])\n",
    "print (my_array)\n",
    "print (my_array.dtype)\n",
    "print (my_array.dtype.itemsize)"
   ]
  },
  {
   "cell_type": "code",
   "execution_count": 24,
   "metadata": {},
   "outputs": [
    {
     "name": "stdout",
     "output_type": "stream",
     "text": [
      "['Red' 'Green' 'Blue']\n",
      "<U5\n",
      "20\n"
     ]
    }
   ],
   "source": [
    "string_array=np.array([\"Red\",\"Green\",\"Blue\"])\n",
    "print(string_array)\n",
    "print(string_array.dtype)\n",
    "print(string_array.dtype.itemsize)\n"
   ]
  },
  {
   "cell_type": "code",
   "execution_count": 10,
   "metadata": {},
   "outputs": [
    {
     "data": {
      "text/plain": [
       "dtype('<U10')"
      ]
     },
     "execution_count": 10,
     "metadata": {},
     "output_type": "execute_result"
    }
   ],
   "source": [
    "date_time_string_array=np.array(['1999-10-14','2001-03-14','2001-01-14'])\n",
    "date_time_string_array.dtype"
   ]
  },
  {
   "cell_type": "code",
   "execution_count": 17,
   "metadata": {},
   "outputs": [
    {
     "data": {
      "text/plain": [
       "dtype('<M8[D]')"
      ]
     },
     "execution_count": 17,
     "metadata": {},
     "output_type": "execute_result"
    }
   ],
   "source": [
    "# converting the date types\n",
    "date_time_string_array=date_time_string_array.astype(dtype=np.datetime64)\n",
    "date_time_string_array.dtype"
   ]
  },
  {
   "cell_type": "code",
   "execution_count": 19,
   "metadata": {},
   "outputs": [
    {
     "data": {
      "text/plain": [
       "dtype('<M8[D]')"
      ]
     },
     "execution_count": 19,
     "metadata": {},
     "output_type": "execute_result"
    }
   ],
   "source": [
    "# specify the array type\n",
    "date_time_array=np.array(['1999-10-14','2001-03-14','2001-01-14'],dtype=np.datetime64)\n",
    "date_time_array.dtype"
   ]
  },
  {
   "cell_type": "code",
   "execution_count": 20,
   "metadata": {},
   "outputs": [
    {
     "data": {
      "text/plain": [
       "array([1, 2, 3, 4, 5])"
      ]
     },
     "execution_count": 20,
     "metadata": {},
     "output_type": "execute_result"
    }
   ],
   "source": [
    "# create an array from list\n",
    "mylist=[1,2,3,4,5]\n",
    "list_array=np.array(mylist)\n",
    "list_array"
   ]
  },
  {
   "cell_type": "code",
   "execution_count": 25,
   "metadata": {},
   "outputs": [
    {
     "name": "stdout",
     "output_type": "stream",
     "text": [
      "[[ 1  2  3  4  5]\n",
      " [ 6  7  8  9 10]\n",
      " [11 12 13 14 15]]\n",
      "(3, 5)\n"
     ]
    }
   ],
   "source": [
    "# create a mutly dimensional array from list of lists\n",
    "# in this case a two-dimensional\n",
    "mylist=[1,2,3,4,5]\n",
    "mylist2=[6,7,8,9,10]\n",
    "mylist3=[11,12,13,14,15]\n",
    "ndarray=np.array([mylist,mylist2,mylist3])\n",
    "print(ndarray)\n",
    "print(ndarray.shape)\n"
   ]
  },
  {
   "cell_type": "code",
   "execution_count": 29,
   "metadata": {},
   "outputs": [
    {
     "name": "stdout",
     "output_type": "stream",
     "text": [
      "[0 1 2 3 4]\n",
      "int32\n"
     ]
    }
   ],
   "source": [
    "# creating an array in range of [0,5)\n",
    "range_array=np.arange(start=0,stop=5)\n",
    "print(range_array)\n",
    "print(range_array.dtype)\n"
   ]
  },
  {
   "cell_type": "code",
   "execution_count": 32,
   "metadata": {},
   "outputs": [
    {
     "name": "stdout",
     "output_type": "stream",
     "text": [
      "[-5 -3 -1  1  3]\n"
     ]
    }
   ],
   "source": [
    "# creating an array in range of [-5,5)\n",
    "# with step of 2 \n",
    "# step means distance of each consecutive point in the array\n",
    "range_array=np.arange(start=-5,stop=5,step=2)\n",
    "print(range_array)\n"
   ]
  },
  {
   "cell_type": "code",
   "execution_count": 39,
   "metadata": {},
   "outputs": [
    {
     "name": "stdout",
     "output_type": "stream",
     "text": [
      "[1. 1. 1. 1. 1.]\n",
      "float64\n"
     ]
    }
   ],
   "source": [
    "#  make an array of size 5\n",
    "# that every elemnt is equal to 1\n",
    "ones_array=np.ones(shape=5)\n",
    "print(ones_array)\n",
    "print(ones_array.dtype)\n"
   ]
  },
  {
   "cell_type": "code",
   "execution_count": 40,
   "metadata": {},
   "outputs": [
    {
     "name": "stdout",
     "output_type": "stream",
     "text": [
      "[[1 1 1]\n",
      " [1 1 1]]\n",
      "int32\n"
     ]
    }
   ],
   "source": [
    "#  make a two dimensional ones-array \n",
    "# which has 2 rows and 3 comlumns\n",
    "# and type of int32\n",
    "ones_array=np.ones(shape=[2,3],dtype=np.int32)\n",
    "print(ones_array)\n",
    "print(ones_array.dtype)\n"
   ]
  },
  {
   "cell_type": "code",
   "execution_count": 41,
   "metadata": {},
   "outputs": [
    {
     "name": "stdout",
     "output_type": "stream",
     "text": [
      "[0. 0. 0.]\n"
     ]
    }
   ],
   "source": [
    "# create a zeros array with 1 row and 3 coolumns \n",
    "zero_array=np.zeros(3)\n",
    "print(zero_array)\n"
   ]
  },
  {
   "cell_type": "code",
   "execution_count": 42,
   "metadata": {},
   "outputs": [
    {
     "name": "stdout",
     "output_type": "stream",
     "text": [
      "[[0. 0. 0. 0.]\n",
      " [0. 0. 0. 0.]\n",
      " [0. 0. 0. 0.]]\n"
     ]
    }
   ],
   "source": [
    "# create a zeros array with 3 rows and 4 coolumns \n",
    "zero_array=np.zeros([3,4])\n",
    "print(zero_array)"
   ]
  },
  {
   "cell_type": "code",
   "execution_count": 51,
   "metadata": {},
   "outputs": [
    {
     "name": "stdout",
     "output_type": "stream",
     "text": [
      "[[1. 0. 0. 0.]\n",
      " [0. 1. 0. 0.]\n",
      " [0. 0. 1. 0.]\n",
      " [0. 0. 0. 1.]]\n"
     ]
    }
   ],
   "source": [
    "# using the Eye to create an identity matrix with 4 rows and columns \n",
    "identity_array=np.eye(4)\n",
    "print(identity_array)"
   ]
  },
  {
   "cell_type": "code",
   "execution_count": 47,
   "metadata": {},
   "outputs": [
    {
     "name": "stdout",
     "output_type": "stream",
     "text": [
      "[[1. 0. 0.]\n",
      " [0. 1. 0.]]\n"
     ]
    }
   ],
   "source": [
    "# using the Eye to create an identity matrix with 2 rows and 3 columns\n",
    "# I =[1,0,0\n",
    "#     0,1,0]\n",
    "identity_array=np.eye(2,3)\n",
    "print(identity_array)"
   ]
  },
  {
   "cell_type": "code",
   "execution_count": 56,
   "metadata": {},
   "outputs": [
    {
     "name": "stdout",
     "output_type": "stream",
     "text": [
      "[[0.16373658 0.91582565 0.86765818]]\n",
      "[2 1 1 1 5]\n"
     ]
    }
   ],
   "source": [
    "# Creating random array which has float numbers as elements\n",
    "# the parameters are dimensions of the array \n",
    "# in this case we have a two-dimensional array \n",
    "# with 1 row and 3 columns\n",
    "random_array=np.random.rand(1,3) \n",
    "print(random_array)\n"
   ]
  },
  {
   "cell_type": "code",
   "execution_count": 69,
   "metadata": {},
   "outputs": [
    {
     "name": "stdout",
     "output_type": "stream",
     "text": [
      "[8 4 7 2 1]\n"
     ]
    }
   ],
   "source": [
    "# randint method makes an int array \n",
    "# in range of [low , high) and the specific size \n",
    "random_int_array=np.random.randint(low=1,high=10,size=5)\n",
    "print(random_int_array)\n"
   ]
  },
  {
   "cell_type": "code",
   "execution_count": 70,
   "metadata": {},
   "outputs": [
    {
     "name": "stdout",
     "output_type": "stream",
     "text": [
      "[[ 0.32343461]\n",
      " [-0.20059049]]\n"
     ]
    }
   ],
   "source": [
    "# randn return  a normal random array with the specified sizes \n",
    "random_array_randn=np.random.randn(2,1)\n",
    "print(random_array_randn)\n"
   ]
  },
  {
   "cell_type": "code",
   "execution_count": 78,
   "metadata": {},
   "outputs": [
    {
     "name": "stdout",
     "output_type": "stream",
     "text": [
      "Dimension of the array:2\n",
      "Shape of the array:(2, 3)\n",
      "Data Type of the array:int32\n",
      "Size of the Elements in array: 4\n"
     ]
    }
   ],
   "source": [
    "# Some arrays attributes\n",
    "sample_array=np.array([[1,2,3],[4,5,6]])\n",
    "print(\"Dimension of the array:{}\".format(sample_array.ndim))\n",
    "print(\"Shape of the array:{}\".format(sample_array.shape))\n",
    "print(\"Data Type of the array:{}\".format(sample_array.dtype))\n",
    "print(\"Size of the Elements in array: {}\".format(sample_array.itemsize))\n",
    "\n"
   ]
  },
  {
   "cell_type": "code",
   "execution_count": 89,
   "metadata": {},
   "outputs": [
    {
     "name": "stdout",
     "output_type": "stream",
     "text": [
      "First way of iteration:\n",
      "1\n",
      "2\n",
      "3\n",
      "4\n",
      "5\n",
      "6\n",
      "Second way of iteration:\n",
      "1\n",
      "2\n",
      "3\n",
      "4\n",
      "5\n",
      "6\n"
     ]
    }
   ],
   "source": [
    "# some ways two iteration over an array\n",
    "iteration_array=np.array([[1,2,3],[4,5,6]])\n",
    "# nested for\n",
    "print('First way of iteration:')\n",
    "for rows in iteration_array:\n",
    "    for each_column in rows :\n",
    "        print(each_column)\n",
    "\n",
    "# flat attr\n",
    "# flat attribute make a sample 1-d array from the main array\n",
    "# then iterate over it\n",
    "print('Second way of iteration:')\n",
    "print(* iteration_array.flat  ,sep=\"\\n\")\n"
   ]
  },
  {
   "cell_type": "code",
   "execution_count": 90,
   "metadata": {},
   "outputs": [
    {
     "name": "stdout",
     "output_type": "stream",
     "text": [
      "Color array before adding white :\n",
      " ['red' 'green' 'blue']\n",
      "Color array after adding :\n",
      " ['red' 'green' 'blue' 'white']\n"
     ]
    }
   ],
   "source": [
    "# add an element to array by\n",
    "# append \n",
    "Colors_arry=np.array(['red','green','blue'])\n",
    "print('Color array before adding white :\\n',Colors_arry)\n",
    "Colors_arry=np.append(Colors_arry,'white')\n",
    "print('Color array after adding :\\n',Colors_arry)\n"
   ]
  },
  {
   "cell_type": "code",
   "execution_count": 91,
   "metadata": {},
   "outputs": [
    {
     "name": "stdout",
     "output_type": "stream",
     "text": [
      "Color array before  :\n",
      " ['red' 'green' 'blue']\n",
      "Color array after adding :\n",
      " ['red' 'green' 'blue' 'white' 'black']\n"
     ]
    }
   ],
   "source": [
    "# appending more than one element \n",
    "Colors_arry=np.array(['red','green','blue'])\n",
    "print('Color array before  :\\n',Colors_arry)\n",
    "Colors_arry=np.append(Colors_arry,['white','black'])\n",
    "print('Color array after adding :\\n',Colors_arry)\n"
   ]
  },
  {
   "cell_type": "code",
   "execution_count": 92,
   "metadata": {},
   "outputs": [
    {
     "name": "stdout",
     "output_type": "stream",
     "text": [
      "Color array before  :\n",
      " ['red' 'green' 'blue']\n",
      "Color array after adding :\n",
      " ['red' 'green' 'blue' '255' '0']\n"
     ]
    }
   ],
   "source": [
    "# appending elements with different data types \n",
    "Colors_arry=np.array(['red','green','blue'])\n",
    "print('Color array before  :\\n',Colors_arry)\n",
    "Colors_arry=np.append(Colors_arry,[255,0])\n",
    "print('Color array after adding :\\n',Colors_arry)\n"
   ]
  },
  {
   "cell_type": "code",
   "execution_count": 113,
   "metadata": {},
   "outputs": [
    {
     "name": "stdout",
     "output_type": "stream",
     "text": [
      "Color array before  :\n",
      " [['red' 'green']\n",
      " ['blue' 'gray']]\n",
      "Color array after adding :\n",
      " [['red' 'green']\n",
      " ['blue' 'gray']\n",
      " ['black' 'white']]\n"
     ]
    }
   ],
   "source": [
    "# appending elements to a 2d array \n",
    "# in this case we are adding to the rows\n",
    "# axis=0\n",
    "Colors_arry=np.array([['red','green'],['blue','gray']])\n",
    "print('Color array before  :\\n',Colors_arry)\n",
    "Colors_arry=np.append(Colors_arry,[['black','white']],axis=0)\n",
    "print('Color array after  :\\n',Colors_arry)\n",
    "# note that in this example the number of the columns in both array must be the same\n"
   ]
  },
  {
   "cell_type": "code",
   "execution_count": 117,
   "metadata": {},
   "outputs": [
    {
     "name": "stdout",
     "output_type": "stream",
     "text": [
      "Color array before  :\n",
      " [['red' 'green']\n",
      " ['blue' 'gray']]\n",
      "Color array after  :\n",
      " [['red' 'green' 'black']\n",
      " ['blue' 'gray' 'white']]\n"
     ]
    }
   ],
   "source": [
    "# appending elements to a 2d array \n",
    "# in this case we are adding to the columns\n",
    "# axis=1\n",
    "Colors_arry=np.array([['red','green'],['blue','gray']])\n",
    "print('Color array before  :\\n',Colors_arry)\n",
    "Colors_arry=np.append(Colors_arry,[['black'],['white']],axis=1)\n",
    "print('Color array after  :\\n',Colors_arry)\n",
    "\n",
    "# note that in this example the number of the rows in both array must be the same\n"
   ]
  },
  {
   "cell_type": "code",
   "execution_count": 126,
   "metadata": {},
   "outputs": [
    {
     "name": "stdout",
     "output_type": "stream",
     "text": [
      "Origin array:  [1 2 3 4 5]\n",
      "Array after deletion:  [1 2 4 5]\n"
     ]
    }
   ],
   "source": [
    "# Removing elements from array by delete\n",
    "# the first parameter is the array \n",
    "# the second one is the indexes of the elements\n",
    "\n",
    "# delete one index \n",
    "sample_array=np.array([1,2,3,4,5])\n",
    "print('Origin array: ',sample_array)\n",
    "deleted_array=np.delete(sample_array,2)\n",
    "print('Array after deletion: ',deleted_array)\n",
    "\n",
    "\n",
    "\n"
   ]
  },
  {
   "cell_type": "code",
   "execution_count": 127,
   "metadata": {},
   "outputs": [
    {
     "name": "stdout",
     "output_type": "stream",
     "text": [
      "Origin array:  [ 6  7  8  9 10]\n",
      "Array after deletion:  [ 9 10]\n"
     ]
    }
   ],
   "source": [
    "# delete multiple indexes\n",
    "sample_array=np.array([6,7,8,9,10])\n",
    "print('Origin array: ',sample_array) \n",
    "deleted_array=np.delete(sample_array,[0,1,2])\n",
    "print('Array after deletion: ',deleted_array)\n"
   ]
  },
  {
   "cell_type": "code",
   "execution_count": 132,
   "metadata": {},
   "outputs": [
    {
     "name": "stdout",
     "output_type": "stream",
     "text": [
      "Origin array: \n",
      " [[1 2 3]\n",
      " [4 5 6]\n",
      " [7 8 9]]\n",
      "Array after deletion: \n",
      " [[4 5 6]\n",
      " [7 8 9]]\n"
     ]
    }
   ],
   "source": [
    "# delete from 2d-array\n",
    "# axis=0 means delete row\n",
    "sample_array=np.array([[1,2,3],[4,5,6],[7,8,9]])\n",
    "print('Origin array: \\n',sample_array) \n",
    "deleted_array=np.delete(sample_array,0,axis=0)\n",
    "print('Array after deletion: \\n',deleted_array)\n",
    "\n"
   ]
  },
  {
   "cell_type": "code",
   "execution_count": 134,
   "metadata": {},
   "outputs": [
    {
     "name": "stdout",
     "output_type": "stream",
     "text": [
      "Origin array: \n",
      " [[1 2 3]\n",
      " [4 5 6]\n",
      " [7 8 9]]\n",
      "Array after deletion: \n",
      " [[1 2]\n",
      " [4 5]\n",
      " [7 8]]\n"
     ]
    }
   ],
   "source": [
    "# delete from 2d-array\n",
    "# axis=1 means delete column\n",
    "sample_array=np.array([[1,2,3],[4,5,6],[7,8,9]])\n",
    "print('Origin array: \\n',sample_array) \n",
    "deleted_array=np.delete(sample_array,2,axis=1)\n",
    "print('Array after deletion: \\n',deleted_array)\n",
    "\n"
   ]
  }
 ],
 "metadata": {
  "kernelspec": {
   "display_name": "Python 3.9.7 ('base')",
   "language": "python",
   "name": "python3"
  },
  "language_info": {
   "codemirror_mode": {
    "name": "ipython",
    "version": 3
   },
   "file_extension": ".py",
   "mimetype": "text/x-python",
   "name": "python",
   "nbconvert_exporter": "python",
   "pygments_lexer": "ipython3",
   "version": "3.9.7"
  },
  "orig_nbformat": 4,
  "vscode": {
   "interpreter": {
    "hash": "ab392ac59224d972ea7e6dac78f0a92692a36bfed70ec96bec5a0335d43e3470"
   }
  }
 },
 "nbformat": 4,
 "nbformat_minor": 2
}
